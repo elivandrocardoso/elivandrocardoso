{
  "nbformat": 4,
  "nbformat_minor": 0,
  "metadata": {
    "colab": {
      "name": "programas_diversos.ipynb",
      "provenance": [],
      "authorship_tag": "ABX9TyM5+AulZzB2xo2rZf0xhfvH",
      "include_colab_link": true
    },
    "kernelspec": {
      "name": "python3",
      "display_name": "Python 3"
    },
    "language_info": {
      "name": "python"
    }
  },
  "cells": [
    {
      "cell_type": "markdown",
      "metadata": {
        "id": "view-in-github",
        "colab_type": "text"
      },
      "source": [
        "<a href=\"https://colab.research.google.com/github/elivandrocardoso/elivandrocardoso/blob/main/programas_diversos.ipynb\" target=\"_parent\"><img src=\"https://colab.research.google.com/assets/colab-badge.svg\" alt=\"Open In Colab\"/></a>"
      ]
    },
    {
      "cell_type": "markdown",
      "source": [
        "Algoritmo para diretrizes de procedimentos.\n",
        "\n",
        "Um cliente envia este e-mail a você.\n",
        "\n",
        "**Assunto**. Problema no transporte.\n",
        "\n",
        "Acabei de receber meu pedido, mas, ao abrir a caixa,\n",
        "notei que o fecho da minha pulseira estava quebrado.\n",
        "Posso fazer a troca? O número do meu pedido é 062789.\n",
        "\n",
        "**Diretrizes de procedimento**\n",
        "\n"
      ],
      "metadata": {
        "id": "Vj6siJl6WdPM"
      }
    },
    {
      "cell_type": "code",
      "execution_count": 59,
      "metadata": {
        "colab": {
          "base_uri": "https://localhost:8080/"
        },
        "id": "GJYgU2ipWDtK",
        "outputId": "06fd2c5b-b52f-45c7-d9e6-f197acdaeaeb"
      },
      "outputs": [
        {
          "output_type": "stream",
          "name": "stdout",
          "text": [
            "\n",
            "\n",
            "**** Diretrizes de procedimento ****\n",
            "\n",
            "************ Bem vindo! ************\n",
            "\n",
            "O cliente forneceu um número de pedido ou endereço de e-mail [s/n]?  s\n",
            "O cliente forneceu fotos dos danos [s/n] ? s\n",
            "Crie uma solicitação de troca de pedido e envie o e-mail \"Troca de item solicitada\".\n"
          ]
        }
      ],
      "source": [
        "\"\"\"\n",
        "Diretrizes de procedimento.\n",
        "\"\"\"\n",
        "print('\\n')\n",
        "\n",
        "print('**** Diretrizes de procedimento ****\\n')\n",
        "\n",
        "print('************ Bem vindo! ************\\n')\n",
        "\n",
        "pergunta1 = 'O cliente forneceu um número de pedido ou endereço de e-mail [s/n]?  '\n",
        "resposta1 = 'Envie o e-mail \"Conta não encontrada - \"solicitação de mais informações.\"'\n",
        "\n",
        "pergunta2 = 'Algum item foi danificado durante o transporte [s/n]? '\n",
        "resposta2 = 'Envie o e-mail \"Atualização de rastreamento\"'\n",
        "\n",
        "pergunta3 = 'O cliente forneceu fotos dos danos [s/n] ? '\n",
        "resposta3 = 'Crie uma solicitação de troca de pedido e envie o e-mail \"Troca de item solicitada\".'\n",
        "resposta3_1 = 'Envie o e-mail \"Solicitação de fotos dos danos.'\n",
        "\n",
        "positivo = True\n",
        "negativo = False\n",
        "\n",
        "if input(pergunta1) == negativo:\n",
        "    input(pergunta2) == negativo\n",
        "    print(resposta2)\n",
        "elif pergunta2 == negativo:\n",
        "    print(resposta1)\n",
        "elif pergunta2 == negativo:\n",
        "    print(resposta2)\n",
        "elif pergunta2 == positivo:\n",
        "    pergunta3 = input(pergunta3)\n",
        "elif input(pergunta3) and pergunta3:\n",
        "    print(resposta3)\n",
        "elif input(pergunta3) == positivo:\n",
        "       print(resposta3_1)\n",
        "else:\n",
        "    print(resposta1)\n",
        "\n",
        "\n",
        "\n",
        "\n"
      ]
    }
  ]
}